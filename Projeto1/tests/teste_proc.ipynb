{
 "cells": [
  {
   "cell_type": "markdown",
   "id": "d946af99-9558-41c0-9653-88b9aa25c460",
   "metadata": {},
   "source": [
    "# Módulo de processamento"
   ]
  },
  {
   "cell_type": "markdown",
   "id": "872d8d34-3665-4f1d-b5da-83b7d5b28f6f",
   "metadata": {},
   "source": [
    "## Requisito 1 - Desenvolvimento da função de soma"
   ]
  },
  {
   "cell_type": "code",
   "execution_count": 2,
   "id": "5c5d0ac1-87ff-424d-83c4-ce2c7a6c38ee",
   "metadata": {},
   "outputs": [
    {
     "data": {
      "text/plain": [
       "10"
      ]
     },
     "execution_count": 2,
     "metadata": {},
     "output_type": "execute_result"
    }
   ],
   "source": [
    "x= 4\n",
    "y = 6\n",
    "\n",
    "x+y"
   ]
  },
  {
   "cell_type": "code",
   "execution_count": 4,
   "id": "73261a8d-d356-4d32-88e2-9a0b3602943b",
   "metadata": {},
   "outputs": [
    {
     "data": {
      "text/plain": [
       "13"
      ]
     },
     "execution_count": 4,
     "metadata": {},
     "output_type": "execute_result"
    }
   ],
   "source": [
    "def somadora(x,y):\n",
    "    return x+y\n",
    "somadora (5,8)"
   ]
  },
  {
   "cell_type": "code",
   "execution_count": 5,
   "id": "5d2e5bac-c96d-4e03-8da4-09763c8c5ee2",
   "metadata": {
    "tags": []
   },
   "outputs": [],
   "source": [
    "def somadora(numero1:float,numero2:float) -> float:\n",
    "    \"\"\" Esta função pega dois numeros reais e retorna a soma deles\"\"\"\n",
    "    return numero1 + numero2"
   ]
  },
  {
   "cell_type": "code",
   "execution_count": 6,
   "id": "31e7701a-84ed-4fe7-9d63-b3ccfa050156",
   "metadata": {
    "tags": []
   },
   "outputs": [
    {
     "data": {
      "text/plain": [
       "11"
      ]
     },
     "execution_count": 6,
     "metadata": {},
     "output_type": "execute_result"
    }
   ],
   "source": [
    "somadora(7,4)"
   ]
  },
  {
   "cell_type": "markdown",
   "id": "dfe0e8a8-4bbc-42c4-a1b4-1cdd2dfbb63e",
   "metadata": {},
   "source": [
    "## Requisito 2 - Desenvolvimento da função subtração"
   ]
  },
  {
   "cell_type": "code",
   "execution_count": 7,
   "id": "54809098-f9d7-4a43-b758-3fe5652089a5",
   "metadata": {
    "tags": []
   },
   "outputs": [],
   "source": [
    "def diminuidora(numero1:float,numero2:float) -> float:\n",
    "    \"\"\" Esta função pega dois numeros reais e retorna a subtração deles\"\"\"\n",
    "    return numero1 - numero2\n",
    "    "
   ]
  },
  {
   "cell_type": "code",
   "execution_count": 8,
   "id": "c6255349-986a-4e25-88d2-90bb7fd2e54e",
   "metadata": {
    "tags": []
   },
   "outputs": [
    {
     "data": {
      "text/plain": [
       "-2"
      ]
     },
     "execution_count": 8,
     "metadata": {},
     "output_type": "execute_result"
    }
   ],
   "source": [
    "diminuidora(4,6)"
   ]
  },
  {
   "cell_type": "markdown",
   "id": "1014bb30-d11d-4648-ad00-124f818115d6",
   "metadata": {},
   "source": [
    "## Requisito 3 - Desenvolvimento da função multiplicadora"
   ]
  },
  {
   "cell_type": "code",
   "execution_count": 9,
   "id": "f385f763-662e-4aa3-9c82-79dabfa910a9",
   "metadata": {
    "tags": []
   },
   "outputs": [],
   "source": [
    "def mult(numero1:float,numero2:float) -> float:\n",
    "    \"\"\" Esta função pega dois numeros reais e retorna a multiplicação deles\"\"\"\n",
    "    return numero1 * numero2"
   ]
  },
  {
   "cell_type": "code",
   "execution_count": 10,
   "id": "fc47926c-9ff8-4e59-8271-34bd7794004d",
   "metadata": {
    "tags": []
   },
   "outputs": [
    {
     "data": {
      "text/plain": [
       "28"
      ]
     },
     "execution_count": 10,
     "metadata": {},
     "output_type": "execute_result"
    }
   ],
   "source": [
    "mult(4,7)"
   ]
  },
  {
   "cell_type": "markdown",
   "id": "b3b53cc2-eb84-41b7-863f-463846112790",
   "metadata": {},
   "source": [
    "## Requisito 4 - Desenvolvimento da função divisão"
   ]
  },
  {
   "cell_type": "code",
   "execution_count": 12,
   "id": "519240b4-3c05-45fa-8339-09b1c58154f9",
   "metadata": {
    "tags": []
   },
   "outputs": [],
   "source": [
    "def div(numero1:float,numero2:float) -> float:\n",
    "    \"\"\" Esta função pega dois numeros reais e retorna a divisão deles\"\"\"\n",
    "    return numero1 / numero2"
   ]
  },
  {
   "cell_type": "code",
   "execution_count": 13,
   "id": "297efa0f-ab70-45fb-814f-a73d0d9958ef",
   "metadata": {
    "tags": []
   },
   "outputs": [
    {
     "data": {
      "text/plain": [
       "5.0"
      ]
     },
     "execution_count": 13,
     "metadata": {},
     "output_type": "execute_result"
    }
   ],
   "source": [
    "div(10,2)"
   ]
  }
 ],
 "metadata": {
  "kernelspec": {
   "display_name": "Python 3 (ipykernel)",
   "language": "python",
   "name": "python3"
  },
  "language_info": {
   "codemirror_mode": {
    "name": "ipython",
    "version": 3
   },
   "file_extension": ".py",
   "mimetype": "text/x-python",
   "name": "python",
   "nbconvert_exporter": "python",
   "pygments_lexer": "ipython3",
   "version": "3.11.5"
  }
 },
 "nbformat": 4,
 "nbformat_minor": 5
}
