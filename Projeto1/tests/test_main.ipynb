{
 "cells": [
  {
   "cell_type": "markdown",
   "id": "45a01fed-d17e-4444-b7c8-c4c955b12d2b",
   "metadata": {
    "tags": []
   },
   "source": [
    "# Módulo Principal"
   ]
  },
  {
   "cell_type": "code",
   "execution_count": 4,
   "id": "3e3b7f12-923c-4d7a-8561-de7e0026f523",
   "metadata": {
    "tags": []
   },
   "outputs": [],
   "source": [
    "import test_es\n",
    "import test_proc\n",
    "\n"
   ]
  },
  {
   "cell_type": "code",
   "execution_count": 12,
   "id": "59c01ffd-8971-4b54-bf49-716d39036c75",
   "metadata": {
    "tags": []
   },
   "outputs": [
    {
     "name": "stdin",
     "output_type": "stream",
     "text": [
      "Digite o 1º número que deseja operar 10\n",
      "Digite o 2º número que deseja operar 5\n",
      "Digite a operação que deseja realizar. ( + , - , * , / ) /\n"
     ]
    }
   ],
   "source": [
    "dados = test_es.leitora()"
   ]
  },
  {
   "cell_type": "code",
   "execution_count": 15,
   "id": "897b27d3-352d-4ba6-87da-b3abc0875ea4",
   "metadata": {
    "tags": []
   },
   "outputs": [],
   "source": [
    "if dados[1] == 'soma':\n",
    "    resultado = test_proc.somadora(dados[0][0],dados[0][1])\n",
    "elif dados[1] == 'subtracao':\n",
    "    resultado = test_proc.diminuidora(dados[0][0],dados[0][1])\n",
    "elif dados[1] == 'multiplicacao':\n",
    "    resultado = test_proc.mult(dados[0][0],dados[0][1])\n",
    "else:\n",
    "    resultado = test_proc.div(dados[0][0],dados[0][1])\n",
    "    "
   ]
  },
  {
   "cell_type": "code",
   "execution_count": 16,
   "id": "cdd0ea07-27d2-44bc-a446-b613b276a97c",
   "metadata": {
    "tags": []
   },
   "outputs": [
    {
     "data": {
      "text/plain": [
       "2.0"
      ]
     },
     "execution_count": 16,
     "metadata": {},
     "output_type": "execute_result"
    }
   ],
   "source": [
    "resultado"
   ]
  },
  {
   "cell_type": "code",
   "execution_count": null,
   "id": "2b60413d-d8a2-45fe-acfb-d32b96fb6df1",
   "metadata": {},
   "outputs": [],
   "source": [
    "def escolhedora(dados):\n",
    "    if dados[1] == 'soma':\n",
    "        resultado = test_proc.somadora(dados[0][0],dados[0][1])\n",
    "    elif dados[1] == 'subtracao':\n",
    "        resultado = test_proc.diminuidora(dados[0][0],dados[0][1])\n",
    "    elif dados[1] == 'multiplicacao':\n",
    "        resultado = test_proc.mult(dados[0][0],dados[0][1])\n",
    "    else:\n",
    "        resultado = test_proc.div(dados[0][0],dados[0][1])\n",
    "        \n",
    "    return resultado\n",
    "    "
   ]
  }
 ],
 "metadata": {
  "kernelspec": {
   "display_name": "Python 3 (ipykernel)",
   "language": "python",
   "name": "python3"
  },
  "language_info": {
   "codemirror_mode": {
    "name": "ipython",
    "version": 3
   },
   "file_extension": ".py",
   "mimetype": "text/x-python",
   "name": "python",
   "nbconvert_exporter": "python",
   "pygments_lexer": "ipython3",
   "version": "3.11.5"
  }
 },
 "nbformat": 4,
 "nbformat_minor": 5
}
