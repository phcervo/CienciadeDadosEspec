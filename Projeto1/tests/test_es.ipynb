{
 "cells": [
  {
   "cell_type": "markdown",
   "id": "5793b08b-0acc-43aa-9bd2-5393445a6628",
   "metadata": {},
   "source": [
    "# Módulo de entrada e saída"
   ]
  },
  {
   "cell_type": "code",
   "execution_count": 1,
   "id": "5b44b8b8-e004-458c-8eb3-e7c302183361",
   "metadata": {
    "tags": []
   },
   "outputs": [
    {
     "name": "stdin",
     "output_type": "stream",
     "text": [
      "Digite o primeiro número que deseja operar 5\n"
     ]
    }
   ],
   "source": [
    "# Entrada de dados\n",
    "\n",
    "numero1=input(\"Digite o primeiro número que deseja operar\")"
   ]
  },
  {
   "cell_type": "code",
   "execution_count": 3,
   "id": "911a389f-e47e-4251-8e1d-f8cc786d8e78",
   "metadata": {
    "tags": []
   },
   "outputs": [
    {
     "data": {
      "text/plain": [
       "'5'"
      ]
     },
     "execution_count": 3,
     "metadata": {},
     "output_type": "execute_result"
    }
   ],
   "source": [
    "numero1"
   ]
  },
  {
   "cell_type": "code",
   "execution_count": 6,
   "id": "c5b90d5c-25c1-4e49-8d9d-708ebb446d7c",
   "metadata": {
    "tags": []
   },
   "outputs": [
    {
     "name": "stdin",
     "output_type": "stream",
     "text": [
      "Digite o primeiro número que deseja operar 55\n"
     ]
    }
   ],
   "source": [
    "# Transforma no tipo float\n",
    "\n",
    "numero1=float(input(\"Digite o primeiro número que deseja operar\"))"
   ]
  },
  {
   "cell_type": "code",
   "execution_count": 7,
   "id": "9c1472bb-fed1-4e80-8ecc-dfce1d2cc45c",
   "metadata": {
    "tags": []
   },
   "outputs": [
    {
     "data": {
      "text/plain": [
       "63.0"
      ]
     },
     "execution_count": 7,
     "metadata": {},
     "output_type": "execute_result"
    }
   ],
   "source": [
    "numero1+ 8"
   ]
  },
  {
   "cell_type": "code",
   "execution_count": 8,
   "id": "92eaa32d-35b4-4576-9ed2-f51113eacbf9",
   "metadata": {
    "tags": []
   },
   "outputs": [
    {
     "name": "stdin",
     "output_type": "stream",
     "text": [
      "Digite o segundo número que deseja operar 10\n"
     ]
    }
   ],
   "source": [
    "# Incluir segundo numero\n",
    "\n",
    "numero2 = float(input(\"Digite o segundo número que deseja operar\"))"
   ]
  },
  {
   "cell_type": "code",
   "execution_count": 26,
   "id": "01a49e7d-5332-42ef-8f5c-f7cf746a4fab",
   "metadata": {
    "tags": []
   },
   "outputs": [],
   "source": [
    "# Função de leitura\n",
    "\n",
    "def leitora_numeros():\n",
    "    \"\"\" Essa função le dois numeros, só para quando definir os dois numeros, e transforma numa lista.)\"\"\"\n",
    "    i=0\n",
    "    numeros=[]\n",
    "    while i<2:\n",
    "        numeros.append(float(input(f\"Digite o {i+1}º número que deseja operar\")))\n",
    "        i+=1\n",
    "    return numeros\n",
    "        "
   ]
  },
  {
   "cell_type": "code",
   "execution_count": 14,
   "id": "1d484074-0b61-4ccc-af6f-107411043a12",
   "metadata": {
    "tags": []
   },
   "outputs": [
    {
     "name": "stdin",
     "output_type": "stream",
     "text": [
      "Digite o 1º número que deseja operar 13\n",
      "Digite o 2º número que deseja operar 8\n"
     ]
    },
    {
     "data": {
      "text/plain": [
       "[13.0, 8.0]"
      ]
     },
     "execution_count": 14,
     "metadata": {},
     "output_type": "execute_result"
    }
   ],
   "source": [
    "reader()"
   ]
  },
  {
   "cell_type": "code",
   "execution_count": 27,
   "id": "fd0e0b40-2e6e-402a-b3db-c0f9c858cd0c",
   "metadata": {
    "tags": []
   },
   "outputs": [],
   "source": [
    "# Função que lê a operação que deve ser executada\n",
    "\n",
    "def leitora_operacao():\n",
    "    \"\"\" Le qual a operação desejada, dentro das 4 permitidas \"\"\"\n",
    "\n",
    "    operacao = input(\"Digite a operação que deseja realizar. ( + , - , * , / )\")\n",
    "    if operacao == '+':\n",
    "        operador = 'soma'\n",
    "    elif operacao == '-':\n",
    "        operador = 'subtracao'\n",
    "    elif operacao == '*':\n",
    "        operador = 'multiplicacao'\n",
    "    else:\n",
    "        operador = 'divisao'\n",
    "    \n",
    "    return operador"
   ]
  },
  {
   "cell_type": "code",
   "execution_count": 20,
   "id": "6c4e99ff-67cd-46a1-8026-c17d98ac14b1",
   "metadata": {
    "tags": []
   },
   "outputs": [
    {
     "name": "stdin",
     "output_type": "stream",
     "text": [
      "Digite a operação que deseja realizar. ( + , - , * , / ) /\n"
     ]
    },
    {
     "data": {
      "text/plain": [
       "'divisao'"
      ]
     },
     "execution_count": 20,
     "metadata": {},
     "output_type": "execute_result"
    }
   ],
   "source": [
    "leitora_operacao()"
   ]
  },
  {
   "cell_type": "code",
   "execution_count": 28,
   "id": "b9b00fd1-42f1-4d38-b19e-96a3993e3d36",
   "metadata": {
    "tags": []
   },
   "outputs": [],
   "source": [
    "def leitora():\n",
    "    \n",
    "    \"\"\" Junta a lista de numeros e a operacao em uma lista só \"\"\"\n",
    "    \n",
    "    lista_numeros = leitora_numeros()\n",
    "    operacao = leitora_operacao()\n",
    "    \n",
    "    return [lista_numeros,operacao]"
   ]
  },
  {
   "cell_type": "code",
   "execution_count": 24,
   "id": "a8fe461c-93ff-4af2-8e54-23b783e78a9b",
   "metadata": {
    "tags": []
   },
   "outputs": [
    {
     "name": "stdin",
     "output_type": "stream",
     "text": [
      "Digite o 1º número que deseja operar 5\n",
      "Digite o 2º número que deseja operar 10\n",
      "Digite a operação que deseja realizar. ( + , - , * , / ) +\n"
     ]
    },
    {
     "data": {
      "text/plain": [
       "[[5.0, 10.0], 'soma']"
      ]
     },
     "execution_count": 24,
     "metadata": {},
     "output_type": "execute_result"
    }
   ],
   "source": [
    "leitora()"
   ]
  },
  {
   "cell_type": "code",
   "execution_count": 30,
   "id": "c4dfc54c-f1ce-412f-b3f0-cf1dd0c67852",
   "metadata": {
    "tags": []
   },
   "outputs": [],
   "source": [
    "resultado = 2"
   ]
  },
  {
   "cell_type": "code",
   "execution_count": 31,
   "id": "921274a3-31b1-40fb-b70a-b27f70c23681",
   "metadata": {
    "tags": []
   },
   "outputs": [
    {
     "name": "stdout",
     "output_type": "stream",
     "text": [
      " O resultado da operacao é igual a 2\n"
     ]
    }
   ],
   "source": [
    "print(f\" O resultado da operacao é igual a {resultado}\")"
   ]
  },
  {
   "cell_type": "code",
   "execution_count": 35,
   "id": "af003510-1ab4-4872-b8cb-dadad5a7084d",
   "metadata": {
    "tags": []
   },
   "outputs": [],
   "source": [
    "def escritora(resultado: float) -> None:\n",
    "    \"\"\"Esta função coloca o resultado na tela. Retorno é none pq é um procedimento.\"\"\"\n",
    "    print(f\" O resultado da operacao é igual a {resultado}\")"
   ]
  }
 ],
 "metadata": {
  "kernelspec": {
   "display_name": "Python 3 (ipykernel)",
   "language": "python",
   "name": "python3"
  },
  "language_info": {
   "codemirror_mode": {
    "name": "ipython",
    "version": 3
   },
   "file_extension": ".py",
   "mimetype": "text/x-python",
   "name": "python",
   "nbconvert_exporter": "python",
   "pygments_lexer": "ipython3",
   "version": "3.11.5"
  }
 },
 "nbformat": 4,
 "nbformat_minor": 5
}
