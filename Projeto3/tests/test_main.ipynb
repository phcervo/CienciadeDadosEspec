{
 "cells": [
  {
   "cell_type": "code",
   "execution_count": null,
   "metadata": {},
   "outputs": [],
   "source": [
    "import design as des\n",
    "import es\n",
    "\n",
    "#Le a função escolhida\n",
    "funcao = es.leitor_funcao()\n",
    "\n",
    "# Se houver, le os coeficientes\n",
    "if funcao == 1 or funcao == 2:\n",
    "    coeficientes = es.leitor_coeficientes()\n",
    "\n",
    "# Processa o grafico\n",
    "\n",
    "if funcao == 1:\n",
    "    valores = des.afim(coeficientes[0],coeficientes[1])\n",
    "elif funcao == 2:\n",
    "    valores = des.quadratica(coeficientes[0],coeficientes[1])\n",
    "elif funcao == 3:\n",
    "    valores = des.exponencial()\n",
    "elif funcao == 4:\n",
    "    valores = des.logaritmo()\n",
    "else:\n",
    "    print(\"Função digitada não existe\")\n",
    "    exit\n",
    "\n",
    "\n",
    "# Imprime o gráfico da função\n",
    "es.impressora(valores,funcao)\n",
    "\n",
    "\n"
   ]
  }
 ],
 "metadata": {
  "kernelspec": {
   "display_name": "Python 3",
   "language": "python",
   "name": "python3"
  },
  "language_info": {
   "codemirror_mode": {
    "name": "ipython",
    "version": 3
   },
   "file_extension": ".py",
   "mimetype": "text/x-python",
   "name": "python",
   "nbconvert_exporter": "python",
   "pygments_lexer": "ipython3",
   "version": "3.11.0"
  }
 },
 "nbformat": 4,
 "nbformat_minor": 2
}
