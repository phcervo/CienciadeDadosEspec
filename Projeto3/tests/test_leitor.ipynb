{
 "cells": [
  {
   "cell_type": "markdown",
   "id": "9e6b4c0b-d0d6-4f81-8847-48fb1091b2c3",
   "metadata": {},
   "source": [
    "# Requisito 2\n",
    "Deve haver um menu com as quatro funções capazes de serem plotadas pelo aplicativo.\n",
    "\n",
    "função leitor_funcao() -> string Imprime um menu na tela contendo as funções afim, quadrática,\n",
    "logarítmica e exponencial para o usuário escolher qual delas plotar."
   ]
  },
  {
   "cell_type": "code",
   "execution_count": 2,
   "id": "81cdf413-cd41-48ec-b72a-c3eb5a4b8637",
   "metadata": {
    "tags": []
   },
   "outputs": [],
   "source": [
    "# Criação da função de escolha:\n",
    "\n",
    "def leitor_funcao():\n",
    "    funcao = input (\"Escolha a função que deseja plotar o gráfico : (1-Afim , 2-Quadrática, 3-Exponencial, 4 - Logaritmica) \")"
   ]
  },
  {
   "cell_type": "code",
   "execution_count": 3,
   "id": "1e5adf33-4776-46b4-9868-db8b4166385d",
   "metadata": {
    "tags": []
   },
   "outputs": [],
   "source": [
    "tipo = leitor_funcao()"
   ]
  },
  {
   "cell_type": "markdown",
   "metadata": {},
   "source": [
    "Uma função de leitura de coeficientes, caaso escolha função afim ou quadrática."
   ]
  },
  {
   "cell_type": "code",
   "execution_count": null,
   "metadata": {},
   "outputs": [],
   "source": [
    "def leitor_coeficientes():\n",
    "    \"\"\" Essa função retorna os coeficientes a e c definidas para a função.\"\"\"\n",
    "    \n",
    "    coef_a = float(input(\"Defina o coeficiente a: \"))\n",
    "    coef_b = float(input(\"Defina o coeficiente b: \"))\n",
    "\n",
    "    return coef_a, coef_b\n"
   ]
  },
  {
   "cell_type": "code",
   "execution_count": null,
   "metadata": {},
   "outputs": [],
   "source": [
    "if (tipo) == 1 or (tipo ==2):"
   ]
  }
 ],
 "metadata": {
  "kernelspec": {
   "display_name": "Python 3 (ipykernel)",
   "language": "python",
   "name": "python3"
  },
  "language_info": {
   "codemirror_mode": {
    "name": "ipython",
    "version": 3
   },
   "file_extension": ".py",
   "mimetype": "text/x-python",
   "name": "python",
   "nbconvert_exporter": "python",
   "pygments_lexer": "ipython3",
   "version": "3.11.0"
  }
 },
 "nbformat": 4,
 "nbformat_minor": 5
}
