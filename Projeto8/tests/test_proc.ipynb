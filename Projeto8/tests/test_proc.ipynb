{
 "cells": [
  {
   "cell_type": "markdown",
   "id": "c244ef27-f44f-4e93-a5f7-66864b040b9b",
   "metadata": {},
   "source": [
    "# Processamento dos dados"
   ]
  },
  {
   "cell_type": "code",
   "execution_count": 13,
   "id": "b9d798f9-7f32-48b5-abeb-81222e08a723",
   "metadata": {},
   "outputs": [],
   "source": [
    "# Requisito 3 (RU3) - Calcular média e desvio-padrão dos dados\n",
    "\n",
    "import numpy as np\n",
    "import pandas as pd\n",
    "\n",
    "def calcula_estatisticas(dados: pd.DataFrame,coluna: str) ->list:\n",
    "    media = dados[coluna].mean()\n",
    "    dp = dados[coluna].std()\n",
    "    print(\"O resumo estatístico dos dados como um todo é o seguinte: \")\n",
    "    print(\"\\n\")\n",
    "    \n",
    "    print(dados.describe())\n",
    "    \n",
    "    return [media,dp]"
   ]
  },
  {
   "cell_type": "code",
   "execution_count": 12,
   "id": "ec072b32-2ced-477b-8608-5efd0041861c",
   "metadata": {},
   "outputs": [],
   "source": [
    "# Mostra as colunas existentes no dataframe\n",
    "\n",
    "def colunas_existentes(dados: pd.DataFrame) -> None:\n",
    "    colunas = dados.columns\n",
    "    n_colunas = len(colunas)\n",
    "    print(f\"O número de colunas no dataframe é {n_colunas}\")\n",
    "    print(\"\\n\")\n",
    "    print(colunas)\n",
    "    \n",
    "    "
   ]
  },
  {
   "cell_type": "code",
   "execution_count": 6,
   "id": "dce91a33-1176-4292-9c17-0fa712e45f6b",
   "metadata": {},
   "outputs": [],
   "source": [
    "# Abrindo o csv direto no site do TCE RS\n",
    "\n",
    "dados= pd.read_csv(\"https://dados.tce.rs.gov.br/dados/municipal/balancete-despesa/2023.csv\")"
   ]
  },
  {
   "cell_type": "code",
   "execution_count": 9,
   "id": "84d7eab7-8f2b-48c7-99f7-95e752e8a9e2",
   "metadata": {},
   "outputs": [
    {
     "data": {
      "text/plain": [
       "41"
      ]
     },
     "execution_count": 9,
     "metadata": {},
     "output_type": "execute_result"
    }
   ],
   "source": [
    "colunas = dados.columns\n",
    "len(colunas)"
   ]
  },
  {
   "cell_type": "code",
   "execution_count": 10,
   "id": "bf0fd0cc-acca-49ba-bc08-f678564667f5",
   "metadata": {},
   "outputs": [
    {
     "name": "stdout",
     "output_type": "stream",
     "text": [
      "Index(['ANO', 'MES', 'COD_MUNICIPIO', 'NOME_MUNICIPIO', 'CD_ORGAO',\n",
      "       'NOME_ORGAO', 'CD_RECEBIMENTO', 'CD_ORGAO_ORCAMENTARIO',\n",
      "       'NOME_ORGAO_ORCAMENTARIO', 'CD_UNIDADE_ORCAMENTARIA', 'NOME_UNIDADE',\n",
      "       'TP_UNIDADE', 'CD_FUNCAO', 'DS_FUNCAO', 'CD_SUBFUNCAO', 'DS_SUBFUNCAO',\n",
      "       'CD_PROGRAMA', 'DS_PROGRAMA', 'CD_PROJETO', 'NM_PROJETO', 'CD_ELEMENTO',\n",
      "       'CD_RECURSO', 'NM_RECURSO', 'CD_FONTE_RECURSO', 'VL_DOTACAO_INICIAL',\n",
      "       'VL_ATUALIZACAO_MONETARIA', 'VL_CREDITOS_SUPLEMENTARES',\n",
      "       'VL_CREDITOS_ESPECIAIS', 'VL_CREDITOS_EXTRAORDINARIOS',\n",
      "       'VL_REDUCAO_DOTACAO', 'VL_SUPLEMENTACAO_RECURSO', 'VL_REDUCAO_RECURSO',\n",
      "       'VL_TRANSFERENCIA', 'VL_TRANSPOSICAO', 'VL_REMANEJAMENTO',\n",
      "       'VL_EMPENHADO', 'VL_LIQUIDADO', 'VL_PAGO', 'VL_LIMITADO',\n",
      "       'VL_RECOMPOSICAO', 'VL_PREVISAO_EXECUCAO'],\n",
      "      dtype='object')\n"
     ]
    }
   ],
   "source": [
    "print(colunas)"
   ]
  }
 ],
 "metadata": {
  "kernelspec": {
   "display_name": "Python 3 (ipykernel)",
   "language": "python",
   "name": "python3"
  },
  "language_info": {
   "codemirror_mode": {
    "name": "ipython",
    "version": 3
   },
   "file_extension": ".py",
   "mimetype": "text/x-python",
   "name": "python",
   "nbconvert_exporter": "python",
   "pygments_lexer": "ipython3",
   "version": "3.10.9"
  }
 },
 "nbformat": 4,
 "nbformat_minor": 5
}
