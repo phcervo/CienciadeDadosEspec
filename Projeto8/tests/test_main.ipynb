{
 "cells": [
  {
   "cell_type": "code",
   "execution_count": 1,
   "id": "e71b6a60-bea8-4d15-9486-8a6461dcd542",
   "metadata": {},
   "outputs": [],
   "source": [
    "import es\n",
    "import proc"
   ]
  },
  {
   "cell_type": "code",
   "execution_count": 4,
   "id": "aabaf980-dbec-49ee-a4b0-3e3962363ddf",
   "metadata": {},
   "outputs": [
    {
     "name": "stdin",
     "output_type": "stream",
     "text": [
      "Digite a URL do arquivo .CSV que deseja analisar:  https://dados.tce.rs.gov.br/dados/municipal/balancete-despesa/2023.csv\n"
     ]
    }
   ],
   "source": [
    "# Pega a URL e transforma em df\n",
    "\n",
    "url = es.get_url()\n",
    "dados = es.leitor_dados(url)"
   ]
  },
  {
   "cell_type": "code",
   "execution_count": 7,
   "id": "831d980d-f04b-4266-a1d2-27981b4fd2a0",
   "metadata": {},
   "outputs": [
    {
     "name": "stdout",
     "output_type": "stream",
     "text": [
      "O número de colunas no dataframe é 41\n",
      "\n",
      "\n",
      "Index(['ANO', 'MES', 'COD_MUNICIPIO', 'NOME_MUNICIPIO', 'CD_ORGAO',\n",
      "       'NOME_ORGAO', 'CD_RECEBIMENTO', 'CD_ORGAO_ORCAMENTARIO',\n",
      "       'NOME_ORGAO_ORCAMENTARIO', 'CD_UNIDADE_ORCAMENTARIA', 'NOME_UNIDADE',\n",
      "       'TP_UNIDADE', 'CD_FUNCAO', 'DS_FUNCAO', 'CD_SUBFUNCAO', 'DS_SUBFUNCAO',\n",
      "       'CD_PROGRAMA', 'DS_PROGRAMA', 'CD_PROJETO', 'NM_PROJETO', 'CD_ELEMENTO',\n",
      "       'CD_RECURSO', 'NM_RECURSO', 'CD_FONTE_RECURSO', 'VL_DOTACAO_INICIAL',\n",
      "       'VL_ATUALIZACAO_MONETARIA', 'VL_CREDITOS_SUPLEMENTARES',\n",
      "       'VL_CREDITOS_ESPECIAIS', 'VL_CREDITOS_EXTRAORDINARIOS',\n",
      "       'VL_REDUCAO_DOTACAO', 'VL_SUPLEMENTACAO_RECURSO', 'VL_REDUCAO_RECURSO',\n",
      "       'VL_TRANSFERENCIA', 'VL_TRANSPOSICAO', 'VL_REMANEJAMENTO',\n",
      "       'VL_EMPENHADO', 'VL_LIQUIDADO', 'VL_PAGO', 'VL_LIMITADO',\n",
      "       'VL_RECOMPOSICAO', 'VL_PREVISAO_EXECUCAO'],\n",
      "      dtype='object')\n"
     ]
    }
   ],
   "source": [
    "# Lista as colunas existentes\n",
    "\n",
    "proc.colunas_existentes(dados)"
   ]
  },
  {
   "cell_type": "code",
   "execution_count": 8,
   "id": "169c49c1-6663-4e05-a761-a18d1920b0d1",
   "metadata": {},
   "outputs": [
    {
     "name": "stdin",
     "output_type": "stream",
     "text": [
      "Qual coluna do DataFrame deseja analisar?  VL_CREDITOS_EXTRAORDINARIOS\n"
     ]
    }
   ],
   "source": [
    "# Define qual a coluna que deseja analisar\n",
    "\n",
    "coluna = es.coluna_desejada()"
   ]
  },
  {
   "cell_type": "code",
   "execution_count": 12,
   "id": "5856a05a-c13e-45c6-8f3f-0c5a8b849b74",
   "metadata": {},
   "outputs": [
    {
     "name": "stdout",
     "output_type": "stream",
     "text": [
      "O resumo estatístico dos dados como um todo é o seguinte: \n",
      "\n",
      "\n",
      "            ANO            MES  COD_MUNICIPIO       CD_ORGAO  CD_RECEBIMENTO  \\\n",
      "count  427628.0  427628.000000  427628.000000  427628.000000   427628.000000   \n",
      "mean     2023.0       9.970495     215.370981   61735.134084   313778.373336   \n",
      "std         0.0       0.179712     139.315635   14038.087115      699.698238   \n",
      "min      2023.0       1.000000       1.000000   40100.000000   305606.000000   \n",
      "25%      2023.0      10.000000      99.000000   49900.000000   313330.000000   \n",
      "50%      2023.0      10.000000     190.000000   59300.000000   313847.000000   \n",
      "75%      2023.0      10.000000     326.000000   72800.000000   314355.000000   \n",
      "max      2023.0      10.000000     499.000000   88437.000000   314850.000000   \n",
      "\n",
      "       CD_ORGAO_ORCAMENTARIO  CD_UNIDADE_ORCAMENTARIA      CD_FUNCAO  \\\n",
      "count          427628.000000            427628.000000  427628.000000   \n",
      "mean                8.132601                 2.938454      11.569942   \n",
      "std                 7.579146                 7.805054       7.568892   \n",
      "min                 1.000000                 0.000000       1.000000   \n",
      "25%                 5.000000                 1.000000       8.000000   \n",
      "50%                 7.000000                 1.000000      10.000000   \n",
      "75%                 9.000000                 2.000000      13.000000   \n",
      "max                99.000000                99.000000      99.000000   \n",
      "\n",
      "        CD_SUBFUNCAO    CD_PROGRAMA  ...  VL_REDUCAO_RECURSO  \\\n",
      "count  427628.000000  427628.000000  ...            427628.0   \n",
      "mean      326.816401     244.257387  ...                 0.0   \n",
      "std       198.578317     802.124749  ...                 0.0   \n",
      "min        31.000000       0.000000  ...                 0.0   \n",
      "25%       124.000000      10.000000  ...                 0.0   \n",
      "50%       301.000000      42.000000  ...                 0.0   \n",
      "75%       392.000000     120.000000  ...                 0.0   \n",
      "max       999.000000    9999.000000  ...                 0.0   \n",
      "\n",
      "       VL_TRANSFERENCIA  VL_TRANSPOSICAO  VL_REMANEJAMENTO  VL_EMPENHADO  \\\n",
      "count      4.276280e+05     4.276280e+05      4.276280e+05  4.276280e+05   \n",
      "mean       7.672035e+02     2.268333e+02      7.917381e+02  1.382644e+05   \n",
      "std        6.801197e+04     1.547658e+04      5.575785e+04  2.023172e+06   \n",
      "min        0.000000e+00     0.000000e+00      0.000000e+00  0.000000e+00   \n",
      "25%        0.000000e+00     0.000000e+00      0.000000e+00  0.000000e+00   \n",
      "50%        0.000000e+00     0.000000e+00      0.000000e+00  2.800000e+02   \n",
      "75%        0.000000e+00     0.000000e+00      0.000000e+00  2.600798e+04   \n",
      "max        3.384770e+07     5.300000e+06      1.700000e+07  5.291985e+08   \n",
      "\n",
      "       VL_LIQUIDADO       VL_PAGO   VL_LIMITADO  VL_RECOMPOSICAO  \\\n",
      "count  4.276280e+05  4.276280e+05  4.276280e+05     4.276280e+05   \n",
      "mean   1.209877e+05  1.168090e+05  2.323018e+03     1.982150e+03   \n",
      "std    1.836041e+06  1.806534e+06  3.237229e+05     3.066145e+05   \n",
      "min    0.000000e+00  0.000000e+00  0.000000e+00     0.000000e+00   \n",
      "25%    0.000000e+00  0.000000e+00  0.000000e+00     0.000000e+00   \n",
      "50%    6.252500e+01  0.000000e+00  0.000000e+00     0.000000e+00   \n",
      "75%    2.150328e+04  2.009411e+04  0.000000e+00     0.000000e+00   \n",
      "max    4.125369e+08  4.124883e+08  1.183025e+08     1.166244e+08   \n",
      "\n",
      "       VL_PREVISAO_EXECUCAO  \n",
      "count          4.276280e+05  \n",
      "mean           4.328473e+04  \n",
      "std            1.100036e+06  \n",
      "min            0.000000e+00  \n",
      "25%            0.000000e+00  \n",
      "50%            0.000000e+00  \n",
      "75%            1.000000e+02  \n",
      "max            4.010796e+08  \n",
      "\n",
      "[8 rows x 31 columns]\n"
     ]
    }
   ],
   "source": [
    "# Calcula as estatísticas\n",
    "\n",
    "estatisticas = proc.calcula_estatisticas(dados,coluna)"
   ]
  },
  {
   "cell_type": "code",
   "execution_count": 14,
   "id": "82a90b31-7419-4d13-aae4-c8a4498f87a2",
   "metadata": {},
   "outputs": [
    {
     "data": {
      "image/png": "[encoded data removed]",
      "text/plain": [
       "<Figure size 640x480 with 1 Axes>"
      ]
     },
     "metadata": {},
     "output_type": "display_data"
    }
   ],
   "source": [
    "# Plota o gráfico da coluna desejada\n",
    "es.plotter(dados,coluna)"
   ]
  },
  {
   "cell_type": "code",
   "execution_count": 15,
   "id": "36d31a03-26cd-4bae-8b36-d988b92c920e",
   "metadata": {},
   "outputs": [
    {
     "name": "stdout",
     "output_type": "stream",
     "text": [
      " A média da coluna desejada é 75.10886897022645\n",
      "\n",
      "\n",
      " O desvio padrão dos dados da coluna desejada é 7224.620936275364\n"
     ]
    }
   ],
   "source": [
    "# Imprime as estatisticas\n",
    "es.imprime_estatistica(estatisticas)"
   ]
  }
 ],
 "metadata": {
  "kernelspec": {
   "display_name": "Python 3 (ipykernel)",
   "language": "python",
   "name": "python3"
  },
  "language_info": {
   "codemirror_mode": {
    "name": "ipython",
    "version": 3
   },
   "file_extension": ".py",
   "mimetype": "text/x-python",
   "name": "python",
   "nbconvert_exporter": "python",
   "pygments_lexer": "ipython3",
   "version": "3.10.9"
  }
 },
 "nbformat": 4,
 "nbformat_minor": 5
}
