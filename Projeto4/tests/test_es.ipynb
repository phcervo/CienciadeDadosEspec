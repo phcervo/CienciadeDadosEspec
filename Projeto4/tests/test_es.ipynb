{
 "cells": [
  {
   "cell_type": "markdown",
   "id": "ed2bb95a-818d-499a-8603-6cf118dd75c8",
   "metadata": {},
   "source": [
    "# Módulo de entrada e saída"
   ]
  },
  {
   "cell_type": "markdown",
   "id": "0d23b0e8-542c-4f34-a288-06c83fa16af6",
   "metadata": {},
   "source": [
    "## Requisito 1:\n",
    "Função leitor_pontos()"
   ]
  },
  {
   "cell_type": "code",
   "execution_count": 1,
   "id": "3cb0e190-bd9f-4e37-b138-898f41675494",
   "metadata": {
    "tags": []
   },
   "outputs": [],
   "source": [
    "import numpy as np\n",
    "\n",
    "def leitor_pontos() -> list:\n",
    "    \"\"\" Retorna uma lista de ndarrays\"\"\"\n",
    "    n=1\n",
    "    lista_x=[]\n",
    "    lista_y=[]\n",
    "    resposta=1\n",
    "    \n",
    "    while resposta!=0:\n",
    "        cordx=float(input(f\"Digite o valor da coordenada x do {n}ª ponto: \"))\n",
    "        cordy=float(input(f\"Digite o valor da coordenada y do {n}ª ponto: \"))\n",
    "        \n",
    "        lista_x.append(cordx)\n",
    "        lista_y.append(cordy)\n",
    "        \n",
    "        resposta=float(input(\"Deseja adicionar um novo ponto? (Digite 0 para Não)\"))\n",
    "        \n",
    "        n+=1\n",
    "        #n=resposta\n",
    "        \n",
    "        \n",
    "    #ponto_x=list(float(input(\"Digite as coordenadas do 1º ponto: \")))\n",
    "    #ponto_y=list(float(input(\"Digite as coordenadas do 2º ponto: \")))\n",
    "    \n",
    "    \n",
    "    \n",
    "    return [lista_x,lista_y]\n",
    "    "
   ]
  },
  {
   "cell_type": "code",
   "execution_count": 3,
   "id": "3909aa79-5b72-4ea9-bbcd-b470d2589176",
   "metadata": {
    "tags": []
   },
   "outputs": [],
   "source": [
    "pontos=leitor_pontos()"
   ]
  },
  {
   "cell_type": "markdown",
   "id": "65a78f59-7c63-4063-b073-964b0e944983",
   "metadata": {},
   "source": [
    "## Requisito 2:\n",
    "Função plota gráfico"
   ]
  },
  {
   "cell_type": "code",
   "execution_count": 4,
   "id": "75f5ef19-21c1-4460-845c-c1988063f55a",
   "metadata": {
    "tags": []
   },
   "outputs": [],
   "source": [
    "import numpy as np\n",
    "import matplotlib.pyplot as plt\n",
    "from collections.abc import Callable\n",
    "\n",
    "def plota_grafico(pontos: list, f: Callable) -> None:\n",
    "    \"\"\" Esta função plota o gráfico dada uma lista de pontos\"\"\"\n",
    "    x=pontos[0]\n",
    "    y=f(x)\n",
    "    \n",
    "    plt.plot(x,y,'-')\n",
    "    plt.show()\n",
    "    \n"
   ]
  },
  {
   "cell_type": "code",
   "execution_count": null,
   "id": "1fe56f01-42b3-4504-8e33-2e08790e65dc",
   "metadata": {
    "tags": []
   },
   "outputs": [],
   "source": [
    "f=ajusta_curva(pontos)"
   ]
  },
  {
   "cell_type": "code",
   "execution_count": null,
   "id": "3f20f0b2-b650-43a7-91a5-b358fd70bbda",
   "metadata": {
    "tags": []
   },
   "outputs": [],
   "source": [
    "plota_grafico(pontos,f)"
   ]
  }
 ],
 "metadata": {
  "kernelspec": {
   "display_name": "Python 3 (ipykernel)",
   "language": "python",
   "name": "python3"
  },
  "language_info": {
   "codemirror_mode": {
    "name": "ipython",
    "version": 3
   },
   "file_extension": ".py",
   "mimetype": "text/x-python",
   "name": "python",
   "nbconvert_exporter": "python",
   "pygments_lexer": "ipython3",
   "version": "3.11.0"
  }
 },
 "nbformat": 4,
 "nbformat_minor": 5
}
