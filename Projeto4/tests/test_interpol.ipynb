{
 "cells": [
  {
   "cell_type": "markdown",
   "id": "9b825bbc-0439-407e-af4f-3b820a00a14e",
   "metadata": {},
   "source": [
    "# Módulo interpol"
   ]
  },
  {
   "cell_type": "markdown",
   "id": "6d2e19e7-b978-4c7c-adb9-1092aa8fa1eb",
   "metadata": {},
   "source": [
    "## Módulo de interpolação usando markdown"
   ]
  },
  {
   "cell_type": "code",
   "execution_count": 1,
   "id": "8af56209-0ce3-4292-a518-f15b9d80d6f0",
   "metadata": {
    "tags": []
   },
   "outputs": [],
   "source": [
    "# função do scipy: scipy.interpolate(), faz a interpolação dos pontos.\n",
    "\n",
    "import numpy as np\n",
    "import scipy as sci\n",
    "from collections.abc import Callable\n",
    "\n",
    "\n",
    "def ajusta_curva(pontos:list)->Callable:\n",
    "    # Função interp1d do metodo interpolate, tem que definir alguns parâmetros\n",
    "    x=np.array(pontos[0])\n",
    "    y=np.array(pontos[1])\n",
    "    f=sci.interpolate.interp1d(x,y)\n",
    "    return f"
   ]
  },
  {
   "cell_type": "code",
   "execution_count": 2,
   "id": "7c3f7a9f-d8fb-46d3-94c8-62358d620967",
   "metadata": {
    "tags": []
   },
   "outputs": [],
   "source": [
    "pontos=[[0,1,2.3,4],[0.5,1.1,2.6,3.8]]"
   ]
  },
  {
   "cell_type": "code",
   "execution_count": 3,
   "id": "5f7aecee-479a-40d5-b4d1-401505ec7fca",
   "metadata": {
    "tags": []
   },
   "outputs": [],
   "source": [
    "funcao=ajusta_curva(pontos)"
   ]
  },
  {
   "cell_type": "code",
   "execution_count": 4,
   "id": "f9a41ea9-ce43-4bef-8e6d-7d1264836493",
   "metadata": {
    "tags": []
   },
   "outputs": [],
   "source": [
    "x=np.array([0.4,1.3,1.8,2.5])"
   ]
  },
  {
   "cell_type": "code",
   "execution_count": 6,
   "id": "81aeb893-f35b-4376-86b2-9b19ab2cff28",
   "metadata": {
    "tags": []
   },
   "outputs": [],
   "source": [
    "y=funcao(x)"
   ]
  },
  {
   "cell_type": "code",
   "execution_count": 7,
   "id": "6e7f0c50-4e78-4303-aca3-62322ce69458",
   "metadata": {
    "tags": []
   },
   "outputs": [
    {
     "ename": "NameError",
     "evalue": "name 'plt' is not defined",
     "output_type": "error",
     "traceback": [
      "\u001b[1;31m---------------------------------------------------------------------------\u001b[0m",
      "\u001b[1;31mNameError\u001b[0m                                 Traceback (most recent call last)",
      "\u001b[1;32mc:\\Users\\phcer\\Downloads\\CienciadeDadosEspec-main\\CienciadeDadosEspec-main\\Projeto4\\tests\\test_interpol.ipynb Cell 8\u001b[0m line \u001b[0;36m1\n\u001b[1;32m----> <a href='vscode-notebook-cell:/c%3A/Users/phcer/Downloads/CienciadeDadosEspec-main/CienciadeDadosEspec-main/Projeto4/tests/test_interpol.ipynb#X10sZmlsZQ%3D%3D?line=0'>1</a>\u001b[0m plt\u001b[39m.\u001b[39mplot(x,y)\n\u001b[0;32m      <a href='vscode-notebook-cell:/c%3A/Users/phcer/Downloads/CienciadeDadosEspec-main/CienciadeDadosEspec-main/Projeto4/tests/test_interpol.ipynb#X10sZmlsZQ%3D%3D?line=1'>2</a>\u001b[0m plt\u001b[39m.\u001b[39mshow()\n",
      "\u001b[1;31mNameError\u001b[0m: name 'plt' is not defined"
     ]
    }
   ],
   "source": [
    "plt.plot(x,y)\n",
    "plt.show()"
   ]
  },
  {
   "cell_type": "code",
   "execution_count": 8,
   "id": "effdf93b-758a-430a-9625-ef4dba7be101",
   "metadata": {
    "tags": []
   },
   "outputs": [],
   "source": [
    "# Define o vetor x e o vetor y\n",
    "x=np.arange(0,5)\n",
    "y=np.array([0,3,6,8,12])\n",
    "\n",
    "# Cria a função interpid\n",
    "f=sci.interpolate.interp1d(x,y)\n",
    "\n",
    "# Cria um novo vetor pra testar\n",
    "xnovo=np.array([1,2.3,3.7,3.8,3.9])\n",
    "# Aplica a interpolação na variavel ynovo\n",
    "ynovo=f(xnovo)"
   ]
  },
  {
   "cell_type": "code",
   "execution_count": 9,
   "id": "8dbbdfe7-1e89-4111-a2c4-130b016b2ae6",
   "metadata": {
    "tags": []
   },
   "outputs": [
    {
     "data": {
      "image/png": "[encoded data removed]",
      "text/plain": [
       "<Figure size 640x480 with 1 Axes>"
      ]
     },
     "metadata": {},
     "output_type": "display_data"
    }
   ],
   "source": [
    "# Plota o grafico gerado\n",
    "\n",
    "import matplotlib.pyplot as plt\n",
    "\n",
    "# Plota o x e y como bolas e o xnovo e ynovo como linhas.\n",
    "plt.plot(x,y,'o',xnovo,ynovo,'-')\n",
    "plt.show()"
   ]
  }
 ],
 "metadata": {
  "kernelspec": {
   "display_name": "Python 3 (ipykernel)",
   "language": "python",
   "name": "python3"
  },
  "language_info": {
   "codemirror_mode": {
    "name": "ipython",
    "version": 3
   },
   "file_extension": ".py",
   "mimetype": "text/x-python",
   "name": "python",
   "nbconvert_exporter": "python",
   "pygments_lexer": "ipython3",
   "version": "3.11.0"
  }
 },
 "nbformat": 4,
 "nbformat_minor": 5
}
