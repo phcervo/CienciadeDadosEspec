{
 "cells": [
  {
   "cell_type": "markdown",
   "metadata": {},
   "source": [
    "## O sistema deve permitir que o usuário insira o nome de uma página da web."
   ]
  },
  {
   "cell_type": "markdown",
   "metadata": {},
   "source": [
    "1. leitor _pagina(nome_pagina -> str)"
   ]
  },
  {
   "cell_type": "code",
   "execution_count": 3,
   "metadata": {},
   "outputs": [],
   "source": [
    "def leitor_pagina() -> str:\n",
    "    pagina = input(\"Digite a URL que deseja baixar o conteúdo: \")\n",
    "    return pagina"
   ]
  },
  {
   "cell_type": "code",
   "execution_count": 4,
   "metadata": {},
   "outputs": [],
   "source": [
    "nome_pagina = leitor_pagina()"
   ]
  },
  {
   "cell_type": "markdown",
   "metadata": {},
   "source": [
    "O sistema deve ser capaz de baixar a página da web especificada pelo usuário."
   ]
  },
  {
   "cell_type": "markdown",
   "metadata": {},
   "source": [
    "2. impressora(nome_pagina) -> None"
   ]
  },
  {
   "cell_type": "code",
   "execution_count": 18,
   "metadata": {},
   "outputs": [],
   "source": [
    "import os.path\n",
    "\n",
    "def impressora(codigo_fonte) -> None:\n",
    "    local_arquivo = input(\"Digite o local que deseja salvar o arquivo. (Se deixar vazio irá salvar na pasta de downloads.) : \")\n",
    "    nome_arquivo = input(\"Digite o nome do arquivo .txt que deseja salvar: \")\n",
    "\n",
    "    user_path = os.path.expanduser('~')\n",
    "    download_path = user_path + '\\\\Downloads\\\\'\n",
    "\n",
    "    if local_arquivo == '':\n",
    "        nome_final = download_path + nome_arquivo + '.json'\n",
    "    else:\n",
    "        nome_final= user_path + local_arquivo + nome_arquivo + '.json'\n",
    "\n",
    "\n",
    "    with open(nome_final, 'w',encoding=\"utf-8\") as arquivo:\n",
    "        arquivo.write(codigo_fonte)\n",
    "\n",
    "    print(f\"Arquivo salvo na pasta: {nome_final}\")\n",
    "\n",
    "    print(f'O código fonte da pagina é: {codigo_fonte}')\n"
   ]
  },
  {
   "cell_type": "code",
   "execution_count": 15,
   "metadata": {},
   "outputs": [],
   "source": [
    "download_path = os.path.expanduser('~') + '\\\\Downloads\\\\'"
   ]
  },
  {
   "cell_type": "code",
   "execution_count": 16,
   "metadata": {},
   "outputs": [
    {
     "data": {
      "text/plain": [
       "'C:\\\\Users\\\\phcer\\\\Downloads\\\\'"
      ]
     },
     "execution_count": 16,
     "metadata": {},
     "output_type": "execute_result"
    }
   ],
   "source": [
    "download_path"
   ]
  },
  {
   "cell_type": "code",
   "execution_count": 17,
   "metadata": {},
   "outputs": [],
   "source": [
    "nome_arquivo = input(\"Digite o nome do arquivo .txt que deseja salvar: \")"
   ]
  },
  {
   "cell_type": "code",
   "execution_count": 23,
   "metadata": {},
   "outputs": [],
   "source": [
    "nome_final = download_path + nome_arquivo + '.txt'"
   ]
  },
  {
   "cell_type": "code",
   "execution_count": 25,
   "metadata": {},
   "outputs": [],
   "source": [
    "with open(nome_final, 'w',encoding=\"utf-8\") as arquivo:\n",
    "        arquivo.write('oi')"
   ]
  }
 ],
 "metadata": {
  "kernelspec": {
   "display_name": "Python 3",
   "language": "python",
   "name": "python3"
  },
  "language_info": {
   "codemirror_mode": {
    "name": "ipython",
    "version": 3
   },
   "file_extension": ".py",
   "mimetype": "text/x-python",
   "name": "python",
   "nbconvert_exporter": "python",
   "pygments_lexer": "ipython3",
   "version": "3.11.0"
  }
 },
 "nbformat": 4,
 "nbformat_minor": 2
}
