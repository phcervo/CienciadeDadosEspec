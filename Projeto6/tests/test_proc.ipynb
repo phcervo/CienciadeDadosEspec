{
 "cells": [
  {
   "cell_type": "markdown",
   "id": "afa45a84-2178-4f6e-b3f0-a0831382c2d1",
   "metadata": {},
   "source": [
    "# Modulo Proc"
   ]
  },
  {
   "cell_type": "markdown",
   "id": "b55da1cf-7517-4189-8154-b1e5b02eef92",
   "metadata": {},
   "source": [
    "### A pagina onde será testado é:"
   ]
  },
  {
   "cell_type": "markdown",
   "id": "6e2a9746-5e96-470d-bdcb-e0bd981c20a0",
   "metadata": {},
   "source": [
    "#### http://pythonscraping.com/pages/page1.html)"
   ]
  },
  {
   "cell_type": "markdown",
   "id": "5748f66a-648c-4847-9a50-df2da63d6ef3",
   "metadata": {},
   "source": [
    "## Função leitor_web(endereco:str) -> str"
   ]
  },
  {
   "cell_type": "code",
   "execution_count": 2,
   "id": "5347d319-1fbf-49f4-86d6-57affe08f641",
   "metadata": {},
   "outputs": [],
   "source": [
    "# funcao leitor_web\n",
    "\n",
    "import requests\n",
    "\n",
    "def leitor_web(endereco_web: str) -> str:\n",
    "    pagina = requests.get(endereco_web)\n",
    "    return pagina.text\n"
   ]
  },
  {
   "cell_type": "code",
   "execution_count": 3,
   "id": "2aeb659c-6db7-4dab-b014-4086e85f8919",
   "metadata": {},
   "outputs": [
    {
     "name": "stdout",
     "output_type": "stream",
     "text": [
      "<html>\n",
      "<head>\n",
      "<title>A Useful Page</title>\n",
      "</head>\n",
      "<body>\n",
      "<h1>An Interesting Title</h1>\n",
      "<div>\n",
      "Lorem ipsum dolor sit amet, consectetur adipisicing elit, sed do eiusmod tempor incididunt ut labore et dolore magna aliqua. Ut enim ad minim veniam, quis nostrud exercitation ullamco laboris nisi ut aliquip ex ea commodo consequat. Duis aute irure dolor in reprehenderit in voluptate velit esse cillum dolore eu fugiat nulla pariatur. Excepteur sint occaecat cupidatat non proident, sunt in culpa qui officia deserunt mollit anim id est laborum.\n",
      "</div>\n",
      "</body>\n",
      "</html>\n",
      "\n"
     ]
    }
   ],
   "source": [
    "pagina1 = leitor_web(\"http://pythonscraping.com/pages/page1.html\")\n",
    "\n",
    "print(pagina1)"
   ]
  },
  {
   "cell_type": "code",
   "execution_count": 70,
   "id": "f669060e-e1d7-4f57-b880-d7eddfa761e3",
   "metadata": {},
   "outputs": [],
   "source": [
    "from bs4 import BeautifulSoup\n",
    "def extrator_tag(pagina: str, tag:str)->list:\n",
    "    \n",
    "    soup = BeautifulSoup(pagina,'html.parser')\n",
    "    return soup.find(tag)\n",
    "    "
   ]
  },
  {
   "cell_type": "code",
   "execution_count": 71,
   "id": "d34222be-b209-49a8-bf40-2d26c1ebf6d6",
   "metadata": {},
   "outputs": [],
   "source": [
    "from bs4 import BeautifulSoup\n",
    "def extrator_total(pagina: str, tag:str)->list:\n",
    "    \n",
    "    soup = BeautifulSoup(pagina,'html.parser')\n",
    "    titulo = soup.title.text\n",
    "    body = soup.body.div.text\n",
    "    contagem = body.count(tag)\n",
    "    \n",
    "    return titulo,contagem"
   ]
  },
  {
   "cell_type": "code",
   "execution_count": 13,
   "id": "cc640769-f65d-4ff4-b278-95496da07d40",
   "metadata": {},
   "outputs": [],
   "source": [
    "soup = BeautifulSoup(pagina1,'html.parser')"
   ]
  },
  {
   "cell_type": "code",
   "execution_count": 15,
   "id": "431a0d21-1dd4-4ab8-9656-70823a1efe10",
   "metadata": {},
   "outputs": [
    {
     "name": "stdout",
     "output_type": "stream",
     "text": [
      "<html>\n",
      " <head>\n",
      "  <title>\n",
      "   A Useful Page\n",
      "  </title>\n",
      " </head>\n",
      " <body>\n",
      "  <h1>\n",
      "   An Interesting Title\n",
      "  </h1>\n",
      "  <div>\n",
      "   Lorem ipsum dolor sit amet, consectetur adipisicing elit, sed do eiusmod tempor incididunt ut labore et dolore magna aliqua. Ut enim ad minim veniam, quis nostrud exercitation ullamco laboris nisi ut aliquip ex ea commodo consequat. Duis aute irure dolor in reprehenderit in voluptate velit esse cillum dolore eu fugiat nulla pariatur. Excepteur sint occaecat cupidatat non proident, sunt in culpa qui officia deserunt mollit anim id est laborum.\n",
      "  </div>\n",
      " </body>\n",
      "</html>\n",
      "\n"
     ]
    }
   ],
   "source": [
    "print(soup.prettify())"
   ]
  },
  {
   "cell_type": "code",
   "execution_count": 49,
   "id": "81854e1d-fd93-4e3a-8fb5-67fd2a5f167d",
   "metadata": {},
   "outputs": [],
   "source": [
    "from bs4 import BeautifulSoup\n",
    "def extrator(pagina: str)->str:\n",
    "    soup = BeautifulSoup(pagina,'html.parser')\n",
    "    titulo = soup.title.text\n",
    "    body = soup.body.div.text\n",
    "    \n",
    "    return titulo,body"
   ]
  },
  {
   "cell_type": "code",
   "execution_count": 59,
   "id": "e65dc651-2cac-481c-89ea-2d1af77a3cb0",
   "metadata": {},
   "outputs": [],
   "source": [
    "textos = extrator(pagina1,'in')"
   ]
  },
  {
   "cell_type": "code",
   "execution_count": 60,
   "id": "2580cc8f-a089-461a-a9d4-8aced60d3c99",
   "metadata": {},
   "outputs": [],
   "source": [
    "titulo = textos[0]"
   ]
  },
  {
   "cell_type": "code",
   "execution_count": 61,
   "id": "8b420080-dc2a-4638-8988-49366441908a",
   "metadata": {},
   "outputs": [
    {
     "data": {
      "text/plain": [
       "'A Useful Page'"
      ]
     },
     "execution_count": 61,
     "metadata": {},
     "output_type": "execute_result"
    }
   ],
   "source": [
    "titulo"
   ]
  },
  {
   "cell_type": "code",
   "execution_count": 63,
   "id": "ff725152-dbb9-4b57-994e-611e36e1ae03",
   "metadata": {},
   "outputs": [],
   "source": [
    "contagem = textos[1]"
   ]
  },
  {
   "cell_type": "code",
   "execution_count": 68,
   "id": "0de71beb-927a-4b16-87b2-f1ad0907f01b",
   "metadata": {},
   "outputs": [
    {
     "data": {
      "text/plain": [
       "int"
      ]
     },
     "execution_count": 68,
     "metadata": {},
     "output_type": "execute_result"
    }
   ],
   "source": [
    "type(contagem)"
   ]
  },
  {
   "cell_type": "code",
   "execution_count": 57,
   "id": "15106d8c-7421-450a-aa1e-4bb78b90d6a0",
   "metadata": {},
   "outputs": [
    {
     "data": {
      "text/plain": [
       "7"
      ]
     },
     "execution_count": 57,
     "metadata": {},
     "output_type": "execute_result"
    }
   ],
   "source": [
    "tag = 'in'\n",
    "texto.count(tag)"
   ]
  }
 ],
 "metadata": {
  "kernelspec": {
   "display_name": "Python 3 (ipykernel)",
   "language": "python",
   "name": "python3"
  },
  "language_info": {
   "codemirror_mode": {
    "name": "ipython",
    "version": 3
   },
   "file_extension": ".py",
   "mimetype": "text/x-python",
   "name": "python",
   "nbconvert_exporter": "python",
   "pygments_lexer": "ipython3",
   "version": "3.10.9"
  }
 },
 "nbformat": 4,
 "nbformat_minor": 5
}
