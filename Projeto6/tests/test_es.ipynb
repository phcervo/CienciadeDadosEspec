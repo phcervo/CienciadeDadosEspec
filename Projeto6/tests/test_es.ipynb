{
 "cells": [
  {
   "cell_type": "markdown",
   "id": "8d8033b4-f9a1-4f7d-8709-9828dceed687",
   "metadata": {},
   "source": [
    "# Modulo de entrada de dados"
   ]
  },
  {
   "cell_type": "code",
   "execution_count": 2,
   "id": "5985fece-859f-412f-915e-9f46e86a6c48",
   "metadata": {},
   "outputs": [],
   "source": [
    "# Escolher site, site padrão é \"http://pythonscraping.com/pages/page1.html\"\n",
    "\n",
    "def leitor_site()->str:\n",
    "    escolha = int(input(\"Deseja escolher o site ? (1 - Sim , 2 - Não). Se não digitar, será escolhido o site http://pythonscraping.com/pages/page1.html\"))\n",
    "    if escolha != 2:\n",
    "        endereco_web = input(\"Digite a URL do site: \")\n",
    "    else:\n",
    "        endereco_web = \"http://pythonscraping.com/pages/page1.html\"\n",
    "    \n",
    "    return endereco_web\n",
    "    \n",
    "                         "
   ]
  },
  {
   "cell_type": "code",
   "execution_count": 3,
   "id": "ac137f63-7b97-4293-a4bd-f67a61d13697",
   "metadata": {},
   "outputs": [
    {
     "name": "stdin",
     "output_type": "stream",
     "text": [
      "Deseja escolher o site ? (1 - Sim , 2 - Não). Se não digitar, será escolhido o site http://pythonscraping.com/pages/page1.html 2\n"
     ]
    }
   ],
   "source": [
    "site = leitor_site()"
   ]
  },
  {
   "cell_type": "code",
   "execution_count": null,
   "id": "e63b8da9-0f6a-42fe-a967-647a283e7290",
   "metadata": {},
   "outputs": [],
   "source": []
  },
  {
   "cell_type": "markdown",
   "id": "b27c3181-c5ea-402c-98a7-ba28c55c7a8d",
   "metadata": {},
   "source": [
    "## Requisito 3"
   ]
  },
  {
   "cell_type": "code",
   "execution_count": 8,
   "id": "1dce87a1-d869-4cee-8eca-144853abb471",
   "metadata": {},
   "outputs": [],
   "source": [
    "# O aplicativo deverá informar quantas vezes a palavra-chave foi encontrada no texto.\n",
    "\n",
    "def leitor_tag()->str:\n",
    "    tag = input(\"Qual palavra deseja contar a quantidade no texto? \")\n",
    "    \n",
    "    return tag\n",
    "\n"
   ]
  },
  {
   "cell_type": "code",
   "execution_count": 9,
   "id": "730eabbc-480b-4a37-8e40-e60a825ffb09",
   "metadata": {},
   "outputs": [
    {
     "name": "stdin",
     "output_type": "stream",
     "text": [
      "Qual palavra deseja contar a quantidade no texto?  in\n"
     ]
    }
   ],
   "source": [
    "tag = leitor_tag()"
   ]
  },
  {
   "cell_type": "markdown",
   "id": "5fc7d27a-9786-47be-81e7-4e25eda120cd",
   "metadata": {},
   "source": [
    "## Saída de dados"
   ]
  },
  {
   "cell_type": "code",
   "execution_count": 11,
   "id": "81a1065a-a9da-4751-b796-5d26224cb37f",
   "metadata": {},
   "outputs": [],
   "source": [
    "def impressora(lista: list)-> None:\n",
    "    titulo = lista[0]\n",
    "    contagem = lista[1]\n",
    "    \n",
    "    print(f\"O título do texto é: {titulo}\")\n",
    "    print(f\"O numero de vezes que a tag escolhida aparece no texto é: {contagem}\")\n",
    "    "
   ]
  },
  {
   "cell_type": "code",
   "execution_count": 12,
   "id": "96eceffd-55ee-494e-a33e-1a3cc48d97c4",
   "metadata": {},
   "outputs": [],
   "source": [
    "lista1=[\"Teste\",10]"
   ]
  },
  {
   "cell_type": "code",
   "execution_count": 13,
   "id": "61d1efd9-29ab-482f-9efd-a85b6c717a5e",
   "metadata": {},
   "outputs": [
    {
     "name": "stdout",
     "output_type": "stream",
     "text": [
      "O título do texto é: Teste\n",
      "O numero de vezes que a tag escolhida aparece no texto é: 10\n"
     ]
    }
   ],
   "source": [
    "impressora(lista1)"
   ]
  }
 ],
 "metadata": {
  "kernelspec": {
   "display_name": "Python 3 (ipykernel)",
   "language": "python",
   "name": "python3"
  },
  "language_info": {
   "codemirror_mode": {
    "name": "ipython",
    "version": 3
   },
   "file_extension": ".py",
   "mimetype": "text/x-python",
   "name": "python",
   "nbconvert_exporter": "python",
   "pygments_lexer": "ipython3",
   "version": "3.10.9"
  }
 },
 "nbformat": 4,
 "nbformat_minor": 5
}
