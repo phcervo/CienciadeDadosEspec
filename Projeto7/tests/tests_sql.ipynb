{
 "cells": [
  {
   "cell_type": "markdown",
   "id": "b3c93d9c-336a-4e42-8ce8-bf8f5587be66",
   "metadata": {},
   "source": [
    "# Testando a biblioteca SQlite no Python, para trabalhar com banco de dados"
   ]
  },
  {
   "cell_type": "markdown",
   "id": "99339162-f601-470e-a472-84136a80b60b",
   "metadata": {},
   "source": [
    "CREATE - Criar a tabela \n",
    "RETRIEVE - Consultar  \n",
    "UPDATE - Adicionar valores na tabela \n",
    "DELETE - Excluir valores"
   ]
  },
  {
   "cell_type": "code",
   "execution_count": 1,
   "id": "64f4de02-0058-4767-8cb2-53a064869023",
   "metadata": {},
   "outputs": [],
   "source": [
    "import sqlite3\n",
    "\n",
    "# Cria uma conexão\n",
    "conn = sqlite3.connect('Agenda.db')"
   ]
  },
  {
   "cell_type": "code",
   "execution_count": 2,
   "id": "661ef0b7-7111-4837-bf2e-0433c96a0f5c",
   "metadata": {
    "tags": []
   },
   "outputs": [
    {
     "ename": "OperationalError",
     "evalue": "table Agenda already exists",
     "output_type": "error",
     "traceback": [
      "\u001b[1;31m---------------------------------------------------------------------------\u001b[0m",
      "\u001b[1;31mOperationalError\u001b[0m                          Traceback (most recent call last)",
      "Cell \u001b[1;32mIn[2], line 6\u001b[0m\n\u001b[0;32m      3\u001b[0m conn \u001b[38;5;241m=\u001b[39m sqlite3\u001b[38;5;241m.\u001b[39mconnect(\u001b[38;5;124m'\u001b[39m\u001b[38;5;124mAgenda.db\u001b[39m\u001b[38;5;124m'\u001b[39m)\n\u001b[0;32m      5\u001b[0m \u001b[38;5;66;03m# Criando a instrução sql\u001b[39;00m\n\u001b[1;32m----> 6\u001b[0m \u001b[43mconn\u001b[49m\u001b[38;5;241;43m.\u001b[39;49m\u001b[43mexecute\u001b[49m\u001b[43m(\u001b[49m\u001b[38;5;124;43m'''\u001b[39;49m\u001b[38;5;124;43m CREATE TABLE Agenda (Prenome TEXT NOT NULL, Nome_do_meio TEXT NOT NULL, Sobrenome TEXT NOT NULL, CodArea INT NOT NULL, Celular VARCHAR(9) NOT NULL,\u001b[39;49m\n\u001b[0;32m      7\u001b[0m \u001b[38;5;124;43mFixo INT, Estado TEXT, Cidade TEXT, Bairro TEXT, Logradouro TEXT, Nome_Logradouro TEXT, Numero INT,Complemento TEXT) \u001b[39;49m\u001b[38;5;124;43m'''\u001b[39;49m\u001b[43m)\u001b[49m\n\u001b[0;32m      9\u001b[0m \u001b[38;5;28mprint\u001b[39m(\u001b[38;5;124m\"\u001b[39m\u001b[38;5;124mTabela criada\u001b[39m\u001b[38;5;124m\"\u001b[39m)\n\u001b[0;32m     11\u001b[0m \u001b[38;5;66;03m# Fecha a conexão para salvar\u001b[39;00m\n",
      "\u001b[1;31mOperationalError\u001b[0m: table Agenda already exists"
     ]
    }
   ],
   "source": [
    "# Cria uma tabela com a conexão criada\n",
    "\n",
    "conn = sqlite3.connect('Agenda.db')\n",
    "\n",
    "# Criando a instrução sql\n",
    "conn.execute(''' CREATE TABLE Agenda (Prenome TEXT NOT NULL, Nome_do_meio TEXT NOT NULL, Sobrenome TEXT NOT NULL, CodArea INT NOT NULL, Celular VARCHAR(9) NOT NULL,\n",
    "Fixo INT, Estado TEXT, Cidade TEXT, Bairro TEXT, Logradouro TEXT, Nome_Logradouro TEXT, Numero INT,Complemento TEXT) ''')\n",
    "\n",
    "print(\"Tabela criada\")\n",
    "\n",
    "# Fecha a conexão para salvar\n",
    "conn.close()"
   ]
  },
  {
   "cell_type": "code",
   "execution_count": 17,
   "id": "a22e54f2-ba5a-4f0a-8289-cb00398c81ab",
   "metadata": {},
   "outputs": [],
   "source": [
    "# Criou a tabela vazia, para incluir dados.\n",
    "\n",
    "# Método INSERT\n",
    "\n",
    "conn = sqlite3.connect('Agenda.db')\n",
    "cursor = conn.cursor()\n",
    "\n",
    "# INSERT INTO table (colunas) VALUES (valores)\n",
    "\n",
    "cursor.execute(\"\"\" INSERT INTO Agenda (Prenome, Nome_do_meio, Sobrenome, CodArea, Celular,\n",
    "Fixo, Estado, Cidade, Bairro, Logradouro, Nome_Logradouro, Numero,Complemento) VALUES ('Pedro', 'Henrique', 'Cervo', 51,\"999999999\",35953565,'RS','Porto Alegre','Centro','Rua','Teste',25,'Ap 50'); \"\"\")\n",
    "conn.commit()\n",
    "\n",
    "\n",
    "conn.close()"
   ]
  },
  {
   "cell_type": "code",
   "execution_count": 21,
   "id": "9a5aac70-4e65-4bee-9d68-019c19be233f",
   "metadata": {},
   "outputs": [
    {
     "name": "stdout",
     "output_type": "stream",
     "text": [
      "Pedro\n",
      "Pedro\n"
     ]
    }
   ],
   "source": [
    "# Testando o método SELECT\n",
    "\n",
    "conn = sqlite3.connect('Agenda.db')\n",
    "\n",
    "# Seleciona todos registros da tabela com '*'\n",
    "cursor = conn.execute(\"SELECT * FROM Agenda;\")\n",
    "\n",
    "for row in cursor:\n",
    "    print (row[0])\n",
    "\n",
    "dados = cursor.fetchall()\n",
    "\n",
    "conn.close()"
   ]
  },
  {
   "cell_type": "code",
   "execution_count": 22,
   "id": "511aa474-8251-41ce-aa9c-0d8f4f06ea4c",
   "metadata": {},
   "outputs": [
    {
     "data": {
      "text/plain": [
       "[]"
      ]
     },
     "execution_count": 22,
     "metadata": {},
     "output_type": "execute_result"
    }
   ],
   "source": [
    "dados"
   ]
  },
  {
   "cell_type": "code",
   "execution_count": 13,
   "id": "8dc8fe4c-9f60-4431-9ff6-44aed066660c",
   "metadata": {},
   "outputs": [],
   "source": [
    "import sqlite3 as sql\n",
    "def inserir(registro: list) -> sql.Cursor:\n",
    "    conn = sql.connect(\"Agenda.db\")\n",
    "    conn.cursor()\n",
    "    conn.execute(\"\"\"\n",
    "    INSERT INTO Agenda values registro;\"\"\")"
   ]
  },
  {
   "cell_type": "code",
   "execution_count": 24,
   "id": "aa74499b-ba4d-44f0-a1c5-ef9edc170133",
   "metadata": {},
   "outputs": [
    {
     "name": "stdout",
     "output_type": "stream",
     "text": [
      "('Pedro', 'Henrique', 'Cervo', 51, 999999999, 35953565, 'RS', 'Porto Alegre', 'Centro', 'Rua', 'Teste', 25, 'Ap 50')\n"
     ]
    }
   ],
   "source": [
    "#Connecting to sqlite\n",
    "conn = sqlite3.connect('Agenda.db')\n",
    "\n",
    "#Creating a cursor object using the cursor() method\n",
    "cursor = conn.cursor()\n",
    "\n",
    "#Retrieving data\n",
    "cursor.execute('''SELECT * from Agenda''')\n",
    "\n",
    "#Fetching 1st row from the table\n",
    "result = cursor.fetchone();\n",
    "lista = cursor.fetchall()\n",
    "print(result)"
   ]
  },
  {
   "cell_type": "code",
   "execution_count": 25,
   "id": "618e1257-36b0-4f8a-8985-218ad7e68807",
   "metadata": {},
   "outputs": [
    {
     "data": {
      "text/plain": [
       "[('Pedro',\n",
       "  'Henrique',\n",
       "  'Cervo',\n",
       "  51,\n",
       "  999999999,\n",
       "  35953565,\n",
       "  'RS',\n",
       "  'Porto Alegre',\n",
       "  'Centro',\n",
       "  'Rua',\n",
       "  'Teste',\n",
       "  25,\n",
       "  'Ap 50')]"
      ]
     },
     "execution_count": 25,
     "metadata": {},
     "output_type": "execute_result"
    }
   ],
   "source": [
    "lista"
   ]
  }
 ],
 "metadata": {
  "kernelspec": {
   "display_name": "Python 3 (ipykernel)",
   "language": "python",
   "name": "python3"
  },
  "language_info": {
   "codemirror_mode": {
    "name": "ipython",
    "version": 3
   },
   "file_extension": ".py",
   "mimetype": "text/x-python",
   "name": "python",
   "nbconvert_exporter": "python",
   "pygments_lexer": "ipython3",
   "version": "3.10.9"
  }
 },
 "nbformat": 4,
 "nbformat_minor": 5
}
