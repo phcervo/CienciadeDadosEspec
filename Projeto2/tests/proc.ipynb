{
 "cells": [
  {
   "cell_type": "markdown",
   "id": "5ad55b92-e1c6-4d22-b1ad-57f956790fa4",
   "metadata": {},
   "source": [
    "# Módulo de instanciação de objetos da classe Ação"
   ]
  },
  {
   "cell_type": "code",
   "execution_count": 10,
   "id": "1a800f97-1c0b-4a09-95bd-4760de1807a5",
   "metadata": {
    "tags": []
   },
   "outputs": [],
   "source": [
    "# Criar uma classe chamada Ação\n",
    "\n",
    "class Acao:\n",
    "    def __init__(self,emissor,codigo_b3):\n",
    "        # self é a boa pratica para definir a noção do objeto (caracteristicas).\n",
    "        self.emissor=emissor\n",
    "        # O atributo emissor do objeto ação receberá a variavel emissor\n",
    "        self.codigo_b3=codigo_b3\n",
    "        "
   ]
  },
  {
   "cell_type": "code",
   "execution_count": 3,
   "id": "b62c86d8-d9a7-4bf2-8b4d-2804af3ffb4b",
   "metadata": {
    "tags": []
   },
   "outputs": [],
   "source": [
    "# Teste da classe ação, instanciando o objeto BBDC3\n",
    "\n",
    "bbdc3 = Acao(\"Bradesco\",\"bbdc3\")"
   ]
  },
  {
   "cell_type": "code",
   "execution_count": 9,
   "id": "7b213825-f45f-4858-bc04-f0775d3af680",
   "metadata": {
    "tags": []
   },
   "outputs": [
    {
     "name": "stdout",
     "output_type": "stream",
     "text": [
      "Bradesco\n"
     ]
    }
   ],
   "source": [
    "# Como o objeto acao tem metodos definidos, chama o metodo emissor.\n",
    "print(bbdc3.emissor)"
   ]
  },
  {
   "cell_type": "code",
   "execution_count": 23,
   "id": "c499e8f8-0f82-4593-998e-b5093d780ad5",
   "metadata": {
    "tags": []
   },
   "outputs": [],
   "source": [
    "# Evoluindo a classe\n",
    "class Acao:\n",
    "    def __init__(self,emissor,codigo_b3):\n",
    "        # self é a boa pratica para definir a noção do objeto (caracteristicas).\n",
    "        self.emissor=emissor\n",
    "        # O atributo emissor do objeto ação receberá a variavel emissor\n",
    "        self.codigo_b3=codigo_b3\n",
    "    \n",
    "    # Criar o método str, para definir o modelo do print do objeto.\n",
    "    def __str__(self):\n",
    "        return \"Este é um objeto da classe Ação\"\n",
    "        return f\"O emissor da ação é {self.emissor} e o código é {self.codigo_b3}\"\n",
    "    \n",
    "    def negociar(self):\n",
    "        print(\"Metodo negociar() não implementado\")\n",
    "        # Define que o metodo nao esta implementado\n",
    "        NotImplemented\n",
    "        "
   ]
  },
  {
   "cell_type": "code",
   "execution_count": 24,
   "id": "af19b296-90f7-46b7-9642-4a63d0f77b86",
   "metadata": {
    "tags": []
   },
   "outputs": [
    {
     "name": "stdout",
     "output_type": "stream",
     "text": [
      "Este é um objeto da classe Ação\n",
      "Metodo negociar() não implementado\n"
     ]
    }
   ],
   "source": [
    "bbdc4 = Acao(\"Bradesco\",\"BBDC4\")\n",
    "print(bbdc4)\n",
    "bbdc4.negociar()"
   ]
  }
 ],
 "metadata": {
  "kernelspec": {
   "display_name": "Python 3 (ipykernel)",
   "language": "python",
   "name": "python3"
  },
  "language_info": {
   "codemirror_mode": {
    "name": "ipython",
    "version": 3
   },
   "file_extension": ".py",
   "mimetype": "text/x-python",
   "name": "python",
   "nbconvert_exporter": "python",
   "pygments_lexer": "ipython3",
   "version": "3.11.5"
  }
 },
 "nbformat": 4,
 "nbformat_minor": 5
}
