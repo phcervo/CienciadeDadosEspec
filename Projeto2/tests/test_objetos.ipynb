{
 "cells": [
  {
   "cell_type": "code",
   "execution_count": null,
   "id": "4040c4e6-041e-45ad-b435-c160aa2d1a25",
   "metadata": {},
   "outputs": [],
   "source": [
    "# Exercicio \n",
    "\n",
    "\"\"\" Crie objeto da classe Televisão com características dadas por \n",
    "\n",
    "-canal\n",
    "-dono\n",
    "\n",
    "E funcionalidades dadas por\n",
    "\n",
    "-sobe canal\n",
    "-desce canal\n",
    "\n",
    "O canal inicial é sempre igual a 2\n",
    "\n",
    "\"\"\""
   ]
  },
  {
   "cell_type": "code",
   "execution_count": 33,
   "id": "0a15d99c-1778-48c6-bb4b-5c8760d349d0",
   "metadata": {
    "tags": []
   },
   "outputs": [],
   "source": [
    "class Televisao:\n",
    "    def __init__(self,canal:float,dono:str):\n",
    "        self.canal=canal\n",
    "        self.dono=dono\n",
    "        \n",
    "    def sobe_canal(self:float):\n",
    "        \n",
    "        self.canal+=1\n",
    "    \n",
    "    \n",
    "    def desce_canal(self:float):\n",
    "        canal_inicial=2\n",
    "        self.canal-=1\n",
    "\n",
    "\n",
    "        "
   ]
  },
  {
   "cell_type": "code",
   "execution_count": 29,
   "id": "251e8552-3a78-4bc5-b272-3ffdc01784c4",
   "metadata": {
    "tags": []
   },
   "outputs": [],
   "source": [
    "objeto=Televisao(2,'Pedro')"
   ]
  },
  {
   "cell_type": "code",
   "execution_count": 31,
   "id": "ee19c66a-7743-41e9-b698-32a85a094f8a",
   "metadata": {
    "tags": []
   },
   "outputs": [
    {
     "name": "stdout",
     "output_type": "stream",
     "text": [
      "4\n"
     ]
    }
   ],
   "source": [
    "objeto.sobe_canal()\n",
    "print(objeto.canal)"
   ]
  },
  {
   "cell_type": "code",
   "execution_count": 32,
   "id": "ef82c2f6-1dbb-488f-93b3-31d677a85dec",
   "metadata": {
    "tags": []
   },
   "outputs": [
    {
     "name": "stdout",
     "output_type": "stream",
     "text": [
      "3\n",
      "Pedro\n"
     ]
    }
   ],
   "source": [
    "objeto.desce_canal()\n",
    "print(objeto.canal)\n",
    "print(objeto.dono)"
   ]
  }
 ],
 "metadata": {
  "kernelspec": {
   "display_name": "Python 3 (ipykernel)",
   "language": "python",
   "name": "python3"
  },
  "language_info": {
   "codemirror_mode": {
    "name": "ipython",
    "version": 3
   },
   "file_extension": ".py",
   "mimetype": "text/x-python",
   "name": "python",
   "nbconvert_exporter": "python",
   "pygments_lexer": "ipython3",
   "version": "3.11.5"
  }
 },
 "nbformat": 4,
 "nbformat_minor": 5
}
