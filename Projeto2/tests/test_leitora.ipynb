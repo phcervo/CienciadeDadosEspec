{
 "cells": [
  {
   "cell_type": "markdown",
   "id": "e89f3e65-d9e8-4b93-8561-248fd179b915",
   "metadata": {
    "tags": []
   },
   "source": [
    "# Módulo de Entrada"
   ]
  },
  {
   "cell_type": "code",
   "execution_count": 2,
   "id": "ac9fc076-2e84-45c0-98b5-cc89f953de4f",
   "metadata": {
    "tags": []
   },
   "outputs": [
    {
     "name": "stdin",
     "output_type": "stream",
     "text": [
      "Qual o nome da empresa?  Itau Unibanco Holding S.A\n"
     ]
    }
   ],
   "source": [
    "emissor = input(\"Qual o nome da empresa? \")"
   ]
  },
  {
   "cell_type": "code",
   "execution_count": 3,
   "id": "4ba6a16d-ea98-414f-b5ff-f41f0c900a33",
   "metadata": {
    "tags": []
   },
   "outputs": [
    {
     "name": "stdout",
     "output_type": "stream",
     "text": [
      "Itau Unibanco Holding S.A\n"
     ]
    }
   ],
   "source": [
    "print(emissor)"
   ]
  },
  {
   "cell_type": "code",
   "execution_count": 8,
   "id": "0e7330df-9379-4d90-bd87-1c2f02fe6459",
   "metadata": {
    "tags": []
   },
   "outputs": [
    {
     "name": "stdin",
     "output_type": "stream",
     "text": [
      "Qual o nome da empresa?  au\n",
      "Qual o código na B3?  ar\n"
     ]
    }
   ],
   "source": [
    "def leitora_emissor():\n",
    "    emissor = input(\"Qual o nome da empresa? \")\n",
    "    return emissor\n",
    "\n",
    "emissor = leitora_emissor()\n"
   ]
  },
  {
   "cell_type": "code",
   "execution_count": 5,
   "id": "43332a78-3cc9-4794-a9a4-84ea032c1e8f",
   "metadata": {
    "tags": []
   },
   "outputs": [
    {
     "name": "stdout",
     "output_type": "stream",
     "text": [
      "Bradesco Participações S.A\n"
     ]
    }
   ],
   "source": [
    "print(emissor)"
   ]
  },
  {
   "cell_type": "code",
   "execution_count": 11,
   "id": "17654045-595b-4b3c-badc-80472b71d1cf",
   "metadata": {
    "tags": []
   },
   "outputs": [
    {
     "name": "stdin",
     "output_type": "stream",
     "text": [
      "Qual o código na B3?  b3sa3\n"
     ]
    }
   ],
   "source": [
    "def leitora_codigo():\n",
    "    codigo = input(\"Qual o código na B3? \")\n",
    "    codigo = codigo.upper()\n",
    "    return codigo\n",
    "\n",
    "codigo = leitora_codigo()"
   ]
  },
  {
   "cell_type": "code",
   "execution_count": 12,
   "id": "9e63b5be-21d9-494a-ae35-99dc34cb9e51",
   "metadata": {
    "tags": []
   },
   "outputs": [
    {
     "name": "stdin",
     "output_type": "stream",
     "text": [
      "Qual o nome da empresa?  b3\n",
      "Qual o código na B3?  b3sa3\n"
     ]
    },
    {
     "name": "stdout",
     "output_type": "stream",
     "text": [
      "('b3', 'B3SA3')\n"
     ]
    }
   ],
   "source": [
    "def leitora():\n",
    "    emissor = leitora_emissor()\n",
    "    codigo = leitora_codigo()\n",
    "    return emissor,codigo\n",
    "empresa=leitora()\n",
    "print(empresa)"
   ]
  },
  {
   "cell_type": "markdown",
   "id": "947ae66e-f886-4fac-a973-f20ea4942ae8",
   "metadata": {},
   "source": [
    "# Saída de dados"
   ]
  },
  {
   "cell_type": "code",
   "execution_count": 15,
   "id": "a517d6fb-91ca-418c-a66d-43049f7bee82",
   "metadata": {
    "tags": []
   },
   "outputs": [],
   "source": [
    "def impressora (resultado: str):\n",
    "    \"\"\" imprime o resultado\"\"\"\n",
    "    print(f\"A ação criada foi {resultado}\")\n"
   ]
  },
  {
   "cell_type": "code",
   "execution_count": 14,
   "id": "31044ff3-20a0-4c20-9cd8-5e8d6b68076c",
   "metadata": {
    "tags": []
   },
   "outputs": [
    {
     "name": "stdout",
     "output_type": "stream",
     "text": [
      "('b3', 'B3SA3')\n"
     ]
    }
   ],
   "source": [
    "impressora(empresa)"
   ]
  }
 ],
 "metadata": {
  "kernelspec": {
   "display_name": "Python 3 (ipykernel)",
   "language": "python",
   "name": "python3"
  },
  "language_info": {
   "codemirror_mode": {
    "name": "ipython",
    "version": 3
   },
   "file_extension": ".py",
   "mimetype": "text/x-python",
   "name": "python",
   "nbconvert_exporter": "python",
   "pygments_lexer": "ipython3",
   "version": "3.11.5"
  }
 },
 "nbformat": 4,
 "nbformat_minor": 5
}
